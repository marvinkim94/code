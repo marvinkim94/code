{
 "cells": [
  {
   "cell_type": "code",
   "execution_count": 1,
   "metadata": {},
   "outputs": [],
   "source": [
    "import numpy as np\n",
    "import pandas as pd\n",
    "from sklearn import linear_model as lm\n",
    "import matplotlib.pyplot as plt\n",
    "import seaborn as sns\n",
    "\n",
    "all_states = pd.read_csv('data/4.18states.csv');\n",
    "abridge = pd.read_csv('data/abridged_couties.csv');\n",
    "#import all data set and tools"
   ]
  },
  {
   "cell_type": "code",
   "execution_count": 2,
   "metadata": {},
   "outputs": [],
   "source": [
    "states = all_states[all_states['Country_Region'] == 'US'];\n",
    "# I want to use just 48 states. (without Hawai, Alaska)\n",
    "list_states = [\"Alabama\",\"Alaska\",\"Arizona\",\"Arkansas\",\"California\",\"Colorado\",\n",
    "  \"Connecticut\",\"Delaware\",\"Florida\",\"Georgia\",\"Hawaii\",\"Idaho\",\"Illinois\",\n",
    "  \"Indiana\",\"Iowa\",\"Kansas\",\"Kentucky\",\"Louisiana\",\"Maine\",\"Maryland\",\n",
    "  \"Massachusetts\",\"Michigan\",\"Minnesota\",\"Mississippi\",\"Missouri\",\"Montana\",\n",
    "  \"Nebraska\",\"Nevada\",\"New Hampshire\",\"New Jersey\",\"New Mexico\",\"New York\",\n",
    "  \"North Carolina\",\"North Dakota\",\"Ohio\",\"Oklahoma\",\"Oregon\",\"Pennsylvania\",\n",
    "  \"Rhode Island\",\"South Carolina\",\"South Dakota\",\"Tennessee\",\"Texas\",\"Utah\",\n",
    "  \"Vermont\",\"Virginia\",\"Washington\",\"West Virginia\",\"Wisconsin\",\"Wyoming\"];\n",
    "states = states[states['Province_State'].isin(list_states) == True];\n",
    "states = states.rename(columns = {'Province_State' : 'State'});\n",
    "states = states.drop([1, 15]);\n",
    "states = states.reset_index(drop = True);"
   ]
  },
  {
   "cell_type": "code",
   "execution_count": 3,
   "metadata": {},
   "outputs": [],
   "source": [
    "# I want to use not only the number of confirmed people, but also population.\n",
    "pop_states = abridge.groupby(['State', 'StateName'])['PopulationEstimate2018'].sum();\n",
    "pop_states = pop_states.to_frame().reset_index();\n",
    "pop_states = pop_states.drop([7]);\n",
    "pop_states = pop_states.rename(columns = {'PopulationEstimate2018' : 'Pop'});\n",
    "pop_states = pop_states.reset_index(drop = True);\n",
    "pop_con = pop_states.merge(states[['State', 'Lat', 'Long_', 'Confirmed']], on = 'State');\n",
    "pop_con = pop_con.sort_values('Confirmed', ascending = False);"
   ]
  },
  {
   "cell_type": "code",
   "execution_count": 4,
   "metadata": {},
   "outputs": [],
   "source": [
    "# I will select three cities that have the high number of confirmed people, and get longitude and latitude of those.\n",
    "list_cities = ['New York', 'Florida', 'California'];\n",
    "lat1 = pop_con[pop_con['State'] == list_cities[0]]['Lat'];\n",
    "long1 = pop_con[pop_con['State'] == list_cities[0]]['Long_'];\n",
    "lat2 = pop_con[pop_con['State'] == list_cities[1]]['Lat'];\n",
    "long2 = pop_con[pop_con['State'] == list_cities[1]]['Long_'];\n",
    "lat3 = pop_con[pop_con['State'] == list_cities[2]]['Lat'];\n",
    "long3 = pop_con[pop_con['State'] == list_cities[2]]['Long_'];\n",
    "con1 = pop_con[pop_con['State'] == list_cities[0]]['Confirmed'];\n",
    "con2 = pop_con[pop_con['State'] == list_cities[1]]['Confirmed'];\n",
    "con3 = pop_con[pop_con['State'] == list_cities[2]]['Confirmed'];\n",
    "pop_con['Lat_1st'] = pop_con['Lat'] - float(lat1);\n",
    "pop_con['Lat_2nd'] = pop_con['Lat'] - float(lat2);\n",
    "pop_con['Lat_3rd'] = pop_con['Lat'] - float(lat3);\n",
    "pop_con['Long_1st'] = pop_con['Long_'] - float(long1);\n",
    "pop_con['Long_2nd'] = pop_con['Long_'] - float(long2);\n",
    "pop_con['Long_3rd'] = pop_con['Long_'] - float(long3);"
   ]
  },
  {
   "cell_type": "code",
   "execution_count": 5,
   "metadata": {},
   "outputs": [],
   "source": [
    "# new data frame for predicting model.\n",
    "X_variables = pd.DataFrame({\n",
    "    'population': pop_con['Pop'],\n",
    "    'Lat1': pop_con['Lat_1st'] * float(con1),\n",
    "    'Lat2': pop_con['Lat_2nd'] * float(con2),\n",
    "    'Lat3': pop_con['Lat_3rd'] * float(con3),\n",
    "    'Long1': pop_con['Long_1st'] * float(con1),\n",
    "    'Long2': pop_con['Long_2nd'] * float(con2),\n",
    "    'Long3': pop_con['Long_3rd'] * float(con3)\n",
    "});\n",
    "Y_confirmed = pd.DataFrame(pop_con['Confirmed']);"
   ]
  },
  {
   "cell_type": "code",
   "execution_count": 6,
   "metadata": {},
   "outputs": [
    {
     "data": {
      "text/plain": [
       "Confirmed    30988.543335\n",
       "dtype: float64"
      ]
     },
     "execution_count": 6,
     "metadata": {},
     "output_type": "execute_result"
    }
   ],
   "source": [
    "#this is the first test, and it doesn't seem to work well. (not good RSME)\n",
    "linear_model = lm.LinearRegression()\n",
    "linear_model.fit(X_variables[:30], Y_confirmed[:30]);\n",
    "Y_fitted = linear_model.predict(X_variables);\n",
    "np.sqrt(np.mean((Y_confirmed - Y_fitted)**2))"
   ]
  },
  {
   "cell_type": "code",
   "execution_count": 7,
   "metadata": {},
   "outputs": [],
   "source": [
    "#To get distances from three states\n",
    "pop_con['distance1'] = (111 * pop_con['Lat_1st']) * (111 * pop_con['Lat_1st']) + (83 * pop_con['Long_1st']) * (83 * pop_con['Long_1st']);\n",
    "pop_con['distance1'] = np.sqrt(pop_con['distance1']);\n",
    "pop_con['distance2'] = (111 * pop_con['Lat_2nd']) * (111 * pop_con['Lat_2nd']) + (99 * pop_con['Long_2nd']) * (99 * pop_con['Long_2nd']);\n",
    "pop_con['distance2'] = np.sqrt(pop_con['distance2']);\n",
    "pop_con['distance3'] = (111 * pop_con['Lat_3rd']) * (111 * pop_con['Lat_3rd']) + (90 * pop_con['Long_3rd']) * (90 * pop_con['Long_3rd']);\n",
    "pop_con['distance3'] = np.sqrt(pop_con['distance3']);"
   ]
  },
  {
   "cell_type": "code",
   "execution_count": 8,
   "metadata": {},
   "outputs": [
    {
     "data": {
      "text/plain": [
       "Text(0.5, 0, 'Distance from Each City')"
      ]
     },
     "execution_count": 8,
     "metadata": {},
     "output_type": "execute_result"
    },
    {
     "data": {
      "image/png": "[encoded data removed]",
      "text/plain": [
       "<Figure size 1080x288 with 1 Axes>"
      ]
     },
     "metadata": {
      "needs_background": "light"
     },
     "output_type": "display_data"
    }
   ],
   "source": [
    "#According to distance, I assumed there would be similar 'Confirmed' values.\n",
    "plt.figure(figsize=(15,4))\n",
    "sns.scatterplot(pop_con['distance1'], pop_con['Confirmed']);\n",
    "sns.scatterplot(pop_con['distance2'], pop_con['Confirmed']);\n",
    "sns.scatterplot(pop_con['distance3'], pop_con['Confirmed']);\n",
    "plt.xlabel('Distance from Each City')"
   ]
  },
  {
   "cell_type": "code",
   "execution_count": 9,
   "metadata": {},
   "outputs": [],
   "source": [
    "# Function for getting mean value of three closest states\n",
    "def mean_three_near_cities(data, i) :\n",
    "    \"\"\"input : data (data frame)\n",
    "        i = ith city (0 ~ 47)\n",
    "        \n",
    "        output : sum of confirmed of near three cities \n",
    "    \"\"\"\n",
    "    lat_i = data[data.index == i]['Lat'];\n",
    "    long_i = data[data.index == i]['Long_'];\n",
    "    #Use a certain distance for 1 degree of long and lat\n",
    "    data['distance_i'] = np.sqrt((111 * (pop_con['Lat'] - float(lat_i))) * (111 * (pop_con['Lat'] - float(lat_i))) + (90 * (pop_con['Long_'] - float(long_i))) * (90 * (pop_con['Long_'] - float(long_i))));\n",
    "    data = data.sort_values('distance_i').reset_index();\n",
    "    data = data.loc[1:3];\n",
    "    value = data['Confirmed'].sum();\n",
    "    return value/3;"
   ]
  },
  {
   "cell_type": "code",
   "execution_count": 10,
   "metadata": {},
   "outputs": [
    {
     "data": {
      "image/png": "[encoded data removed]",
      "text/plain": [
       "<Figure size 1080x288 with 1 Axes>"
      ]
     },
     "metadata": {
      "needs_background": "light"
     },
     "output_type": "display_data"
    }
   ],
   "source": [
    "#Graph to show mean value of three closest states and 'Confirmed' value of one city.\n",
    "pop_con = pop_con.sort_values('State').reset_index(drop = True);\n",
    "list_mean = [mean_three_near_cities(pop_con, i) for i in range(len(pop_con.index))];\n",
    "plt.figure(figsize=(15,4))\n",
    "pop_con['mean_three'] = list_mean;\n",
    "plt.bar(pop_con['StateName'], pop_con['mean_three']/pop_con['Confirmed'],  width=0.4)\n",
    "plt.xlabel('States');\n",
    "plt.ylabel('Mean of Three closest states/Confirmed');"
   ]
  },
  {
   "cell_type": "code",
   "execution_count": 11,
   "metadata": {},
   "outputs": [],
   "source": [
    "#I think some cities that have a very large number of confirmed people make predictions hard.\n",
    "#pop_con.sort_values('Confirmed', ascending = False)\n",
    "#I will drop some states (New York and New Jersey). This will not make perfect model even if the predict is very reliable"
   ]
  },
  {
   "cell_type": "code",
   "execution_count": 12,
   "metadata": {},
   "outputs": [
    {
     "data": {
      "image/png": "[encoded data removed]",
      "text/plain": [
       "<Figure size 1080x288 with 1 Axes>"
      ]
     },
     "metadata": {
      "needs_background": "light"
     },
     "output_type": "display_data"
    }
   ],
   "source": [
    "#Similar graph without New York and New Jersey.\n",
    "plt.figure(figsize=(15,4))\n",
    "new_pop_con = pop_con.drop([29,27]).reset_index(drop = True);\n",
    "new_pop_con['mean_three'] = [mean_three_near_cities(pop_con, i) for i in range(len(new_pop_con.index))];\n",
    "plt.bar(new_pop_con['StateName'], new_pop_con['mean_three']/new_pop_con['Confirmed'],  width=0.4)\n",
    "plt.xlabel('States');\n",
    "plt.ylabel('Mean of Three closest states/Confirmed');"
   ]
  },
  {
   "cell_type": "code",
   "execution_count": 13,
   "metadata": {},
   "outputs": [],
   "source": [
    "# Function to make variables for predicting model. \n",
    "def mk_variables(data, i) :\n",
    "    \"\"\"input : data (data frame)\n",
    "        i = ith city (0 ~ 47)\n",
    "        \n",
    "        output : sum of confirmed of near three cities \n",
    "    \"\"\"\n",
    "    lat_i = data[data.index == i]['Lat'];\n",
    "    long_i = data[data.index == i]['Long_'];\n",
    "    #Use a certain distance for 1 degree of long and lat\n",
    "    data['distance_i'] = np.sqrt((111 * (pop_con['Lat'] - float(lat_i))) * (111 * (pop_con['Lat'] - float(lat_i))) + (90 * (pop_con['Long_'] - float(long_i))) * (90 * (pop_con['Long_'] - float(long_i))));\n",
    "    data = data.sort_values('distance_i').reset_index();\n",
    "    pop = data.loc[0]['Pop']\n",
    "    data = data.loc[1:3];\n",
    "    return np.array(data['Confirmed']);\n",
    "\n",
    "X_variables1 = [mk_variables(new_pop_con, i) for i in range(len(new_pop_con.index))];\n",
    "Y_confirmed1 = np.array(new_pop_con['Confirmed']);"
   ]
  },
  {
   "cell_type": "code",
   "execution_count": 14,
   "metadata": {},
   "outputs": [
    {
     "data": {
      "text/plain": [
       "10302.814812141829"
      ]
     },
     "execution_count": 14,
     "metadata": {},
     "output_type": "execute_result"
    }
   ],
   "source": [
    "#rmse is better than before\n",
    "linear_model1 = lm.LinearRegression()\n",
    "linear_model1.fit(X_variables1[:30], Y_confirmed1[:30]);\n",
    "Y_predicted = linear_model1.predict(X_variables1);\n",
    "np.sqrt(np.mean((Y_confirmed1 - Y_predicted)**2))"
   ]
  },
  {
   "cell_type": "code",
   "execution_count": 15,
   "metadata": {},
   "outputs": [
    {
     "data": {
      "text/plain": [
       "array([  5059.36979847,   6126.09986558,   7351.9337786 , -18969.51895248,\n",
       "         2026.13756696, -10203.28414581,   8121.97841137, -16725.06925881,\n",
       "        -6245.16147187,  10272.35962519, -18638.48300979,  -3211.50676352,\n",
       "         7065.02579798,   5898.21831153,   8691.26044548, -11315.23188498,\n",
       "         7286.83460952,    170.56021908, -25955.61034645, -21889.27018436,\n",
       "         7718.54389358,   4774.5725301 ,   2013.61453218,  11450.23857943,\n",
       "         8809.86333686,   2666.4121071 ,   3900.87659276,   8659.46596989,\n",
       "         5996.94007638,   9092.82997003,   1463.14147492,  10589.13919246,\n",
       "        10493.38314682, -20885.82342803,   -910.92194097,   4497.08298984,\n",
       "        11336.54796105,   4212.5803338 , -15243.11723035,   9024.18852275,\n",
       "         4985.7697499 ,   2295.31128577,    804.33150369,  11571.96712244,\n",
       "         1382.64256471,  11662.29990692])"
      ]
     },
     "execution_count": 15,
     "metadata": {},
     "output_type": "execute_result"
    }
   ],
   "source": [
    "#But predicted value is not close to real value.\n",
    "Y_predicted - Y_confirmed1"
   ]
  }
 ],
 "metadata": {
  "kernelspec": {
   "display_name": "Python 3",
   "language": "python",
   "name": "python3"
  },
  "language_info": {
   "codemirror_mode": {
    "name": "ipython",
    "version": 3
   },
   "file_extension": ".py",
   "mimetype": "text/x-python",
   "name": "python",
   "nbconvert_exporter": "python",
   "pygments_lexer": "ipython3",
   "version": "3.7.6"
  }
 },
 "nbformat": 4,
 "nbformat_minor": 4
}
